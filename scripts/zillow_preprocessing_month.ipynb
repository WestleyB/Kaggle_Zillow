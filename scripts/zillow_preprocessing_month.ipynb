{
 "cells": [
  {
   "cell_type": "markdown",
   "metadata": {
    "deletable": true,
    "editable": true
   },
   "source": [
    "# Kaggle Zillow Preprocessing by month"
   ]
  },
  {
   "cell_type": "code",
   "execution_count": 1,
   "metadata": {
    "collapsed": true,
    "deletable": true,
    "editable": true
   },
   "outputs": [],
   "source": [
    "import numpy as np\n",
    "import pandas as pd\n",
    "import matplotlib.pyplot as plt  # Matlab-style plotting\n",
    "import seaborn as sns\n",
    "color = sns.color_palette()\n",
    "sns.set_style('darkgrid')\n",
    "\n",
    "%matplotlib inline"
   ]
  },
  {
   "cell_type": "markdown",
   "metadata": {
    "deletable": true,
    "editable": true
   },
   "source": [
    "##### Import Data"
   ]
  },
  {
   "cell_type": "code",
   "execution_count": 2,
   "metadata": {
    "collapsed": false,
    "deletable": true,
    "editable": true
   },
   "outputs": [
    {
     "name": "stderr",
     "output_type": "stream",
     "text": [
      "C:\\Users\\WBirmingham\\AppData\\Local\\Continuum\\Anaconda3\\lib\\site-packages\\IPython\\core\\interactiveshell.py:2717: DtypeWarning: Columns (22,32,34,49,55) have mixed types. Specify dtype option on import or set low_memory=False.\n",
      "  interactivity=interactivity, compiler=compiler, result=result)\n"
     ]
    }
   ],
   "source": [
    "df_train = pd.read_csv('../data/train_2016_v2.csv')\n",
    "prop = pd.read_csv('../data/properties_2016.csv')\n",
    "sample = pd.read_csv('../data/sample_submission.csv')"
   ]
  },
  {
   "cell_type": "code",
   "execution_count": 3,
   "metadata": {
    "collapsed": false,
    "deletable": true,
    "editable": true
   },
   "outputs": [
    {
     "name": "stdout",
     "output_type": "stream",
     "text": [
      "(2985217, 64)\n",
      "(90275, 60)\n"
     ]
    }
   ],
   "source": [
    "df_train = pd.merge(df_train, prop, on='parcelid', how='left')\n",
    "\n",
    "sample.rename(index=str, columns={'ParcelId': 'parcelid'}, inplace=True)\n",
    "df_test = sample.merge(prop, on='parcelid', how='left')\n",
    "\n",
    "print(df_test.shape)\n",
    "print(df_train.shape)"
   ]
  },
  {
   "cell_type": "code",
   "execution_count": null,
   "metadata": {
    "collapsed": false,
    "deletable": true,
    "editable": true
   },
   "outputs": [],
   "source": []
  },
  {
   "cell_type": "code",
   "execution_count": 4,
   "metadata": {
    "collapsed": false,
    "deletable": true,
    "editable": true
   },
   "outputs": [],
   "source": [
    "df_train['transactiondate'] =  pd.to_datetime(df_train['transactiondate'])\n",
    "df_train['transaction_year'] = df_train.transactiondate.dt.year.astype(np.int16)\n",
    "df_train['transaction_month'] = df_train.transactiondate.dt.month.astype(np.int8)\n",
    "df_train['transaction_day'] = df_train.transactiondate.dt.weekday.astype(np.int8)"
   ]
  },
  {
   "cell_type": "code",
   "execution_count": 5,
   "metadata": {
    "collapsed": false,
    "deletable": true,
    "editable": true,
    "scrolled": false
   },
   "outputs": [
    {
     "data": {
      "text/plain": [
       "<matplotlib.axes._subplots.AxesSubplot at 0x1b70dc01940>"
      ]
     },
     "execution_count": 5,
     "metadata": {},
     "output_type": "execute_result"
    },
    {
     "data": {
      "image/png": "[encoded data removed]",
      "text/plain": [
       "<matplotlib.figure.Figure at 0x1b7706527f0>"
      ]
     },
     "metadata": {},
     "output_type": "display_data"
    }
   ],
   "source": [
    "plt.subplots(figsize=(20, 8))\n",
    "sns.boxplot(x=\"transaction_month\", y=\"logerror\", data=df_train, whis=np.inf)"
   ]
  },
  {
   "cell_type": "code",
   "execution_count": 6,
   "metadata": {
    "collapsed": false,
    "deletable": true,
    "editable": true
   },
   "outputs": [
    {
     "data": {
      "text/plain": [
       "buildingclasstypeid             1.000000\n",
       "finishedsquarefeet13            0.999847\n",
       "yardbuildingsqft26              0.999542\n",
       "storytypeid                     0.999390\n",
       "basementsqft                    0.999390\n",
       "fireplaceflag                   0.997407\n",
       "architecturalstyletypeid        0.996797\n",
       "typeconstructiontypeid          0.996339\n",
       "finishedsquarefeet6             0.994966\n",
       "decktypeid                      0.991306\n",
       "poolsizesum                     0.990848\n",
       "pooltypeid10                    0.986577\n",
       "pooltypeid2                     0.985357\n",
       "taxdelinquencyflag              0.974985\n",
       "taxdelinquencyyear              0.974985\n",
       "yardbuildingsqft17              0.973307\n",
       "hashottuborspa                  0.971934\n",
       "finishedsquarefeet15            0.958511\n",
       "finishedsquarefeet50            0.930445\n",
       "finishedfloor1squarefeet        0.930445\n",
       "fireplacecnt                    0.899939\n",
       "threequarterbathnbr             0.868670\n",
       "pooltypeid7                     0.820470\n",
       "poolcnt                         0.805827\n",
       "numberofstories                 0.776693\n",
       "airconditioningtypeid           0.690818\n",
       "garagecarcnt                    0.681818\n",
       "garagetotalsqft                 0.681818\n",
       "regionidneighborhood            0.597926\n",
       "heatingorsystemtypeid           0.374771\n",
       "                                  ...   \n",
       "lotsizesquarefeet               0.108908\n",
       "finishedsquarefeet12            0.059335\n",
       "regionidcity                    0.023490\n",
       "calculatedbathnbr               0.016931\n",
       "fullbathcnt                     0.016931\n",
       "yearbuilt                       0.013423\n",
       "calculatedfinishedsquarefeet    0.012660\n",
       "censustractandblock             0.010220\n",
       "structuretaxvaluedollarcnt      0.009304\n",
       "regionidzip                     0.000153\n",
       "logerror                        0.000000\n",
       "transactiondate                 0.000000\n",
       "bathroomcnt                     0.000000\n",
       "bedroomcnt                      0.000000\n",
       "transaction_day                 0.000000\n",
       "fips                            0.000000\n",
       "latitude                        0.000000\n",
       "longitude                       0.000000\n",
       "transaction_month               0.000000\n",
       "propertycountylandusecode       0.000000\n",
       "propertylandusetypeid           0.000000\n",
       "rawcensustractandblock          0.000000\n",
       "regionidcounty                  0.000000\n",
       "roomcnt                         0.000000\n",
       "taxvaluedollarcnt               0.000000\n",
       "assessmentyear                  0.000000\n",
       "landtaxvaluedollarcnt           0.000000\n",
       "taxamount                       0.000000\n",
       "transaction_year                0.000000\n",
       "parcelid                        0.000000\n",
       "Length: 63, dtype: float64"
      ]
     },
     "execution_count": 6,
     "metadata": {},
     "output_type": "execute_result"
    }
   ],
   "source": [
    "((df_train[df_train.transaction_month == 1].isnull().sum() / \n",
    "  len(df_train[df_train.transaction_month == 1]))\n",
    ").sort_values(ascending=False)"
   ]
  },
  {
   "cell_type": "code",
   "execution_count": null,
   "metadata": {
    "collapsed": false,
    "deletable": true,
    "editable": true
   },
   "outputs": [],
   "source": []
  },
  {
   "cell_type": "code",
   "execution_count": 7,
   "metadata": {
    "collapsed": false,
    "deletable": true,
    "editable": true
   },
   "outputs": [
    {
     "data": {
      "text/plain": [
       "count    90275.000000\n",
       "mean      2525.420770\n",
       "std        805.694842\n",
       "min       1286.000000\n",
       "25%       1286.000000\n",
       "50%       3101.000000\n",
       "75%       3101.000000\n",
       "max       3101.000000\n",
       "Name: regionidcounty, dtype: float64"
      ]
     },
     "execution_count": 7,
     "metadata": {},
     "output_type": "execute_result"
    }
   ],
   "source": [
    "df_train.regionidcounty.describe()"
   ]
  },
  {
   "cell_type": "code",
   "execution_count": 8,
   "metadata": {
    "collapsed": false,
    "deletable": true,
    "editable": true
   },
   "outputs": [
    {
     "data": {
      "text/plain": [
       "<matplotlib.axes._subplots.AxesSubplot at 0x1b70fa3bd68>"
      ]
     },
     "execution_count": 8,
     "metadata": {},
     "output_type": "execute_result"
    },
    {
     "data": {
      "image/png": "[encoded data removed]",
      "text/plain": [
       "<matplotlib.figure.Figure at 0x1b71743b5c0>"
      ]
     },
     "metadata": {},
     "output_type": "display_data"
    }
   ],
   "source": [
    "sns.countplot(x = 'rawcensustractandblock', data = df_train)"
   ]
  },
  {
   "cell_type": "code",
   "execution_count": null,
   "metadata": {
    "collapsed": true,
    "deletable": true,
    "editable": true
   },
   "outputs": [],
   "source": []
  },
  {
   "cell_type": "markdown",
   "metadata": {
    "deletable": true,
    "editable": true
   },
   "source": [
    "## Create features from 'rawcensustractandblock'\n",
    "BLOCKID:  15-character code that is the concatenation of fields consisting of the 2-character state FIPS code, the 3-character county FIPS code, the 6-character census tract code, and the 4-character tabulation block code."
   ]
  },
  {
   "cell_type": "code",
   "execution_count": 9,
   "metadata": {
    "collapsed": false,
    "deletable": true,
    "editable": true,
    "scrolled": false
   },
   "outputs": [],
   "source": [
    "df_train['rawcensustractandblock_states'] = df_train.rawcensustractandblock.astype(str).apply(lambda x: ('00'+x[:1])[-2:])\n",
    "df_train['rawcensustractandblock_countries'] = df_train.rawcensustractandblock.astype(str).apply(lambda x: x[1:4])\n",
    "df_train['rawcensustractandblock_tracts'] = df_train.rawcensustractandblock.astype(str).apply(lambda x: x[4:11])\n",
    "df_train['rawcensustractandblock_blocks'] = df_train.rawcensustractandblock.astype(str).apply(lambda x: x[11:])"
   ]
  },
  {
   "cell_type": "code",
   "execution_count": 10,
   "metadata": {
    "collapsed": false,
    "deletable": true,
    "editable": true
   },
   "outputs": [
    {
     "data": {
      "text/html": [
       "<div>\n",
       "<style>\n",
       "    .dataframe thead tr:only-child th {\n",
       "        text-align: right;\n",
       "    }\n",
       "\n",
       "    .dataframe thead th {\n",
       "        text-align: left;\n",
       "    }\n",
       "\n",
       "    .dataframe tbody tr th {\n",
       "        vertical-align: top;\n",
       "    }\n",
       "</style>\n",
       "<table border=\"1\" class=\"dataframe\">\n",
       "  <thead>\n",
       "    <tr style=\"text-align: right;\">\n",
       "      <th></th>\n",
       "      <th>rawcensustractandblock</th>\n",
       "      <th>rawcensustractandblock_states</th>\n",
       "      <th>rawcensustractandblock_countries</th>\n",
       "      <th>rawcensustractandblock_tracts</th>\n",
       "      <th>rawcensustractandblock_blocks</th>\n",
       "    </tr>\n",
       "  </thead>\n",
       "  <tbody>\n",
       "    <tr>\n",
       "      <th>0</th>\n",
       "      <td>6.037107e+07</td>\n",
       "      <td>06</td>\n",
       "      <td>037</td>\n",
       "      <td>1066.46</td>\n",
       "      <td>1</td>\n",
       "    </tr>\n",
       "    <tr>\n",
       "      <th>1</th>\n",
       "      <td>6.059052e+07</td>\n",
       "      <td>06</td>\n",
       "      <td>059</td>\n",
       "      <td>0524.22</td>\n",
       "      <td>2</td>\n",
       "    </tr>\n",
       "    <tr>\n",
       "      <th>2</th>\n",
       "      <td>6.037464e+07</td>\n",
       "      <td>06</td>\n",
       "      <td>037</td>\n",
       "      <td>4638.00</td>\n",
       "      <td>3</td>\n",
       "    </tr>\n",
       "    <tr>\n",
       "      <th>3</th>\n",
       "      <td>6.037296e+07</td>\n",
       "      <td>06</td>\n",
       "      <td>037</td>\n",
       "      <td>2963.00</td>\n",
       "      <td>2</td>\n",
       "    </tr>\n",
       "    <tr>\n",
       "      <th>4</th>\n",
       "      <td>6.059042e+07</td>\n",
       "      <td>06</td>\n",
       "      <td>059</td>\n",
       "      <td>0423.38</td>\n",
       "      <td>1</td>\n",
       "    </tr>\n",
       "  </tbody>\n",
       "</table>\n",
       "</div>"
      ],
      "text/plain": [
       "   rawcensustractandblock rawcensustractandblock_states  \\\n",
       "0            6.037107e+07                            06   \n",
       "1            6.059052e+07                            06   \n",
       "2            6.037464e+07                            06   \n",
       "3            6.037296e+07                            06   \n",
       "4            6.059042e+07                            06   \n",
       "\n",
       "  rawcensustractandblock_countries rawcensustractandblock_tracts  \\\n",
       "0                              037                       1066.46   \n",
       "1                              059                       0524.22   \n",
       "2                              037                       4638.00   \n",
       "3                              037                       2963.00   \n",
       "4                              059                       0423.38   \n",
       "\n",
       "  rawcensustractandblock_blocks  \n",
       "0                             1  \n",
       "1                             2  \n",
       "2                             3  \n",
       "3                             2  \n",
       "4                             1  "
      ]
     },
     "execution_count": 10,
     "metadata": {},
     "output_type": "execute_result"
    }
   ],
   "source": [
    "c_tmp = []\n",
    "for c in df_train.columns:\n",
    "    if 'rawcensustractandblock' in c:\n",
    "        c_tmp.append(c)\n",
    "        \n",
    "df_train[c_tmp].head()"
   ]
  },
  {
   "cell_type": "code",
   "execution_count": null,
   "metadata": {
    "collapsed": true,
    "deletable": true,
    "editable": true
   },
   "outputs": [],
   "source": []
  },
  {
   "cell_type": "code",
   "execution_count": 11,
   "metadata": {
    "collapsed": false,
    "deletable": true,
    "editable": true,
    "scrolled": false
   },
   "outputs": [
    {
     "data": {
      "text/html": [
       "<div>\n",
       "<style>\n",
       "    .dataframe thead tr:only-child th {\n",
       "        text-align: right;\n",
       "    }\n",
       "\n",
       "    .dataframe thead th {\n",
       "        text-align: left;\n",
       "    }\n",
       "\n",
       "    .dataframe tbody tr th {\n",
       "        vertical-align: top;\n",
       "    }\n",
       "</style>\n",
       "<table border=\"1\" class=\"dataframe\">\n",
       "  <thead>\n",
       "    <tr style=\"text-align: right;\">\n",
       "      <th></th>\n",
       "      <th>rawcensustractandblock</th>\n",
       "      <th>rawcensustractandblock_states</th>\n",
       "      <th>rawcensustractandblock_countries</th>\n",
       "      <th>rawcensustractandblock_tracts</th>\n",
       "      <th>rawcensustractandblock_blocks</th>\n",
       "    </tr>\n",
       "  </thead>\n",
       "  <tbody>\n",
       "    <tr>\n",
       "      <th>7</th>\n",
       "      <td>6.111003e+07</td>\n",
       "      <td>06</td>\n",
       "      <td>111</td>\n",
       "      <td>0031.00</td>\n",
       "      <td>21</td>\n",
       "    </tr>\n",
       "    <tr>\n",
       "      <th>16</th>\n",
       "      <td>6.111007e+07</td>\n",
       "      <td>06</td>\n",
       "      <td>111</td>\n",
       "      <td>0074.05</td>\n",
       "      <td>2</td>\n",
       "    </tr>\n",
       "    <tr>\n",
       "      <th>67</th>\n",
       "      <td>6.111008e+07</td>\n",
       "      <td>06</td>\n",
       "      <td>111</td>\n",
       "      <td>0083.04</td>\n",
       "      <td>1</td>\n",
       "    </tr>\n",
       "    <tr>\n",
       "      <th>74</th>\n",
       "      <td>6.111007e+07</td>\n",
       "      <td>06</td>\n",
       "      <td>111</td>\n",
       "      <td>0068.00</td>\n",
       "      <td>2</td>\n",
       "    </tr>\n",
       "    <tr>\n",
       "      <th>85</th>\n",
       "      <td>6.111004e+07</td>\n",
       "      <td>06</td>\n",
       "      <td>111</td>\n",
       "      <td>0036.09</td>\n",
       "      <td>21</td>\n",
       "    </tr>\n",
       "  </tbody>\n",
       "</table>\n",
       "</div>"
      ],
      "text/plain": [
       "    rawcensustractandblock rawcensustractandblock_states  \\\n",
       "7             6.111003e+07                            06   \n",
       "16            6.111007e+07                            06   \n",
       "67            6.111008e+07                            06   \n",
       "74            6.111007e+07                            06   \n",
       "85            6.111004e+07                            06   \n",
       "\n",
       "   rawcensustractandblock_countries rawcensustractandblock_tracts  \\\n",
       "7                               111                       0031.00   \n",
       "16                              111                       0074.05   \n",
       "67                              111                       0083.04   \n",
       "74                              111                       0068.00   \n",
       "85                              111                       0036.09   \n",
       "\n",
       "   rawcensustractandblock_blocks  \n",
       "7                             21  \n",
       "16                             2  \n",
       "67                             1  \n",
       "74                             2  \n",
       "85                            21  "
      ]
     },
     "execution_count": 11,
     "metadata": {},
     "output_type": "execute_result"
    }
   ],
   "source": [
    "df_train[df_train.rawcensustractandblock_countries == '111'][c_tmp].head()"
   ]
  },
  {
   "cell_type": "code",
   "execution_count": null,
   "metadata": {
    "collapsed": true,
    "deletable": true,
    "editable": true
   },
   "outputs": [],
   "source": []
  }
 ],
 "metadata": {
  "kernelspec": {
   "display_name": "Python 3",
   "language": "python",
   "name": "python3"
  },
  "language_info": {
   "codemirror_mode": {
    "name": "ipython",
    "version": 3
   },
   "file_extension": ".py",
   "mimetype": "text/x-python",
   "name": "python",
   "nbconvert_exporter": "python",
   "pygments_lexer": "ipython3",
   "version": "3.6.1"
  }
 },
 "nbformat": 4,
 "nbformat_minor": 2
}
