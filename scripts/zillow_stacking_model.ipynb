{
 "cells": [
  {
   "cell_type": "markdown",
   "metadata": {
    "deletable": true,
    "editable": true
   },
   "source": [
    "# Zillow Stacking"
   ]
  },
  {
   "cell_type": "code",
   "execution_count": 1,
   "metadata": {
    "collapsed": false,
    "deletable": true,
    "editable": true
   },
   "outputs": [],
   "source": [
    "import numpy as np\n",
    "import pandas as pd\n",
    "pd.options.display.max_columns = 999\n",
    "import time\n",
    "from datetime import datetime\n",
    "\n",
    "from sami_function import missing_ratio\n",
    "from zillow_functions import create_newFeatures, data_preprocessing, memory_reduce, create_special_feature\n",
    "\n",
    "\n",
    "from sklearn.preprocessing import StandardScaler\n",
    "from sklearn.preprocessing import LabelEncoder\n",
    "from sklearn.model_selection import train_test_split\n",
    "import xgboost as xgb\n",
    "import gc\n",
    "from sklearn import linear_model\n",
    "\n",
    "%matplotlib inline\n",
    "seed = 42\n",
    "n_features = 100"
   ]
  },
  {
   "cell_type": "code",
   "execution_count": 2,
   "metadata": {
    "collapsed": true,
    "deletable": true,
    "editable": true
   },
   "outputs": [],
   "source": [
    "from sklearn.linear_model import ElasticNet, Lasso,  BayesianRidge, LassoLarsIC\n",
    "from sklearn.ensemble import RandomForestRegressor,  GradientBoostingRegressor\n",
    "from sklearn.kernel_ridge import KernelRidge\n",
    "from sklearn.pipeline import make_pipeline\n",
    "from sklearn.preprocessing import RobustScaler\n",
    "from sklearn.base import BaseEstimator, TransformerMixin, RegressorMixin, clone\n",
    "from sklearn.model_selection import KFold, cross_val_score, train_test_split\n",
    "from sklearn.metrics import mean_squared_error\n",
    "import xgboost as xgb\n",
    "import lightgbm as lgb"
   ]
  },
  {
   "cell_type": "code",
   "execution_count": 3,
   "metadata": {
    "collapsed": false,
    "deletable": true,
    "editable": true,
    "scrolled": false
   },
   "outputs": [
    {
     "name": "stdout",
     "output_type": "stream",
     "text": [
      "\n",
      "Loading data ...\n"
     ]
    },
    {
     "name": "stderr",
     "output_type": "stream",
     "text": [
      "<string>:2: DtypeWarning: Columns (22,32,34,49,55) have mixed types. Specify dtype option on import or set low_memory=False.\n"
     ]
    },
    {
     "name": "stdout",
     "output_type": "stream",
     "text": [
      "Shape train: (90275, 60)\n",
      "\n",
      "Data preprocessing ...\n",
      "\n",
      "\tOutliers treated ...\n",
      "\n",
      "Creating new features ...\n",
      "\n",
      "Reducing consumption memory ...\n",
      "\tInitial size 46.84 MB\n",
      "\tThere are 0 columns that cannot be reduced\n",
      "\tThere are 80 columns reduced\n",
      "\tFinal size 17.57 MB\n",
      "\n",
      "Creating training set ...\n",
      "(90275, 78) (90275,)\n",
      "\n",
      "Features selection ...\n",
      "Wall time: 43 s\n"
     ]
    }
   ],
   "source": [
    "%%time\n",
    "\n",
    "print('\\nLoad preprocessed data ...')\n",
    "df_train =  pd.read_csv('../data/train_processed.csv', sep=';')\n",
    "\n",
    "\n",
    "print('\\nCreating training set ...')\n",
    "x_train = df_train.drop(['parcelid', 'logerror'], axis=1)\n",
    "y_train = df_train['logerror'].values\n",
    "y_mean = np.mean(y_train)\n",
    "print(x_train.shape, y_train.shape)\n",
    "\n",
    "# print('\\nFeature scaling ...')\n",
    "# sc = StandardScaler()\n",
    "# x_train = sc.fit_transform(x_train)\n"
   ]
  },
  {
   "cell_type": "code",
   "execution_count": 4,
   "metadata": {
    "collapsed": true,
    "deletable": true,
    "editable": true
   },
   "outputs": [],
   "source": [
    "from zillow_stacking import AveragingModels, StackingAveragedModels, mae_cv"
   ]
  },
  {
   "cell_type": "code",
   "execution_count": 16,
   "metadata": {
    "collapsed": false,
    "deletable": true,
    "editable": true
   },
   "outputs": [
    {
     "name": "stdout",
     "output_type": "stream",
     "text": [
      "Wall time: 502 µs\n"
     ]
    }
   ],
   "source": [
    "%%time\n",
    "\n",
    "lasso = make_pipeline(RobustScaler(), Lasso(alpha =0.1, random_state=seed))\n",
    "\n",
    "ENet = make_pipeline(RobustScaler(), ElasticNet(alpha=0.1, l1_ratio=.9, random_state=seed))\n",
    "\n",
    "GBoost = GradientBoostingRegressor(n_estimators=100, learning_rate=0.1, criterion='mae',\n",
    "                                   max_depth=4, max_features='sqrt', verbose=2,\n",
    "                                   min_samples_leaf=15, min_samples_split=10, \n",
    "                                   subsample=0.8, loss='huber', random_state =seed)\n",
    "\n",
    "model_xgb = xgb.XGBRegressor(learning_rate=0.031, max_depth=8, \n",
    "                             min_child_weight=1, n_estimators=1000,\n",
    "                             objective='reg:linear', eval_metric='mae', base_score=0.010406,\n",
    "                             gamma=0, subsample=0.8, silent=1,\n",
    "                             random_state=seed, nthread=-1)\n",
    "\n",
    "model_lgb = lgb.LGBMRegressor(objective='regression',num_leaves=32, metric='mae',\n",
    "                              learning_rate=0.0025, n_estimators=720, max_depth=100,\n",
    "                              max_bin=55, bagging_fraction=0.95,\n",
    "                              bagging_freq=8, feature_fraction=0.85,\n",
    "                              feature_fraction_seed=seed, bagging_seed=seed,\n",
    "                              min_data_in_leaf=6, min_sum_hessian_in_leaf=11)"
   ]
  },
  {
   "cell_type": "code",
   "execution_count": null,
   "metadata": {
    "collapsed": true,
    "deletable": true,
    "editable": true
   },
   "outputs": [],
   "source": [
    "%%time\n",
    "\n",
    "score = mae_cv(x_train, y_train, GBoost, 5)\n",
    "print(\"Gradient Boosting score: {:.4f} ({:.4f})\\n\".format(score.mean(), score.std()))"
   ]
  },
  {
   "cell_type": "code",
   "execution_count": 6,
   "metadata": {
    "collapsed": false,
    "deletable": true,
    "editable": true
   },
   "outputs": [
    {
     "name": "stdout",
     "output_type": "stream",
     "text": [
      "\n",
      "Lasso score: 0.0604 (0.0020)\n",
      "\n",
      "ElasticNet score: 0.0604 (0.0020)\n",
      "\n",
      "Wall time: 9.64 s\n"
     ]
    }
   ],
   "source": [
    "%%time\n",
    "\n",
    "score = mae_cv(x_train, y_train, lasso, 5)\n",
    "print(\"\\nLasso score: {:.4f} ({:.4f})\\n\".format(score.mean(), score.std()))\n",
    "\n",
    "score = mae_cv(x_train, y_train, ENet, 5)\n",
    "print(\"ElasticNet score: {:.4f} ({:.4f})\\n\".format(score.mean(), score.std()))"
   ]
  },
  {
   "cell_type": "code",
   "execution_count": null,
   "metadata": {
    "collapsed": false,
    "deletable": true,
    "editable": true,
    "scrolled": false
   },
   "outputs": [],
   "source": [
    "%%time\n",
    "score = mae_cv(x_train, y_train, model_xgb, 5)\n",
    "print(\"Xgboost score: {:.4f} ({:.4f})\\n\".format(score.mean(), score.std()))\n",
    "\n",
    "score = mae_cv(x_train, y_train, model_lgb, 5)\n",
    "print(\"LGBM score: {:.4f} ({:.4f})\\n\" .format(score.mean(), score.std()))"
   ]
  },
  {
   "cell_type": "code",
   "execution_count": null,
   "metadata": {
    "collapsed": true,
    "deletable": true,
    "editable": true
   },
   "outputs": [],
   "source": []
  },
  {
   "cell_type": "code",
   "execution_count": 7,
   "metadata": {
    "collapsed": false,
    "deletable": true,
    "editable": true
   },
   "outputs": [
    {
     "name": "stdout",
     "output_type": "stream",
     "text": [
      " Averaged base models score: 0.0604 (0.0020)\n",
      "\n"
     ]
    }
   ],
   "source": [
    "averaged_models = AveragingModels(models = (ENet, GBoost, lasso))\n",
    "\n",
    "score = mae_cv(x_train, y_train, averaged_models, 5)\n",
    "print(\" Averaged base models score: {:.4f} ({:.4f})\\n\".format(score.mean(), score.std()))"
   ]
  },
  {
   "cell_type": "code",
   "execution_count": null,
   "metadata": {
    "collapsed": true,
    "deletable": true,
    "editable": true
   },
   "outputs": [],
   "source": [
    "stacked_averaged_models = StackingAveragedModels(base_models = (ENet, GBoost, KRR),\n",
    "                                                 meta_model = lasso)\n",
    "\n",
    "score = mae_cv(x_train, y_train, stacked_averaged_models, 5)\n",
    "print(\"Stacking Averaged models score: {:.4f} ({:.4f})\".format(score.mean(), score.std()))"
   ]
  }
 ],
 "metadata": {
  "kernelspec": {
   "display_name": "Python 3",
   "language": "python",
   "name": "python3"
  },
  "language_info": {
   "codemirror_mode": {
    "name": "ipython",
    "version": 3
   },
   "file_extension": ".py",
   "mimetype": "text/x-python",
   "name": "python",
   "nbconvert_exporter": "python",
   "pygments_lexer": "ipython3",
   "version": "3.6.1"
  }
 },
 "nbformat": 4,
 "nbformat_minor": 2
}
